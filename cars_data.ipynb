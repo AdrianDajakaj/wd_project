{
 "cells": [
  {
   "cell_type": "code",
   "execution_count": 1,
   "id": "7303003a",
   "metadata": {},
   "outputs": [],
   "source": [
    "import requests\n",
    "import json\n",
    "import pandas as pd\n",
    "import time"
   ]
  },
  {
   "cell_type": "code",
   "execution_count": 2,
   "id": "87fa726b",
   "metadata": {},
   "outputs": [],
   "source": [
    "cities_df =  pd.read_csv('collected_data/cities_list.csv')"
   ]
  },
  {
   "cell_type": "code",
   "execution_count": 3,
   "id": "a0420efb",
   "metadata": {},
   "outputs": [],
   "source": [
    "header = {\n",
    "    'X-ClientId': 'c7b4da28-cadf-4dd6-f3d1-08dc7b3a73a3'\n",
    "}"
   ]
  },
  {
   "cell_type": "code",
   "execution_count": 4,
   "id": "4472b080",
   "metadata": {},
   "outputs": [],
   "source": [
    "gus_url = \"https://bdl.stat.gov.pl/api/v1\""
   ]
  },
  {
   "cell_type": "code",
   "execution_count": 5,
   "id": "ee2dc2bf",
   "metadata": {},
   "outputs": [],
   "source": [
    "url_1 = gus_url+'/Variables?subject-id=P3583'"
   ]
  },
  {
   "cell_type": "code",
   "execution_count": 9,
   "id": "b2b244d8",
   "metadata": {},
   "outputs": [],
   "source": [
    "resp_1 = requests.get(url_1, headers = header)"
   ]
  },
  {
   "cell_type": "code",
   "execution_count": 11,
   "id": "b34a037a",
   "metadata": {},
   "outputs": [],
   "source": [
    "id_dict = {'benzyna': None, 'olej napędowy': None, 'gaz (LPG)': None, 'pozostałe': None}"
   ]
  },
  {
   "cell_type": "code",
   "execution_count": 13,
   "id": "b7c0f259",
   "metadata": {},
   "outputs": [],
   "source": [
    "if resp_1.status_code == 200:\n",
    "    for elem in resp_1.json()['results']:\n",
    "        if elem['n1'] == 'samochody osobowe':\n",
    "            if elem['n2'] == 'benzyna':\n",
    "                id_dict['benzyna'] = elem['id']\n",
    "            elif elem['n2'] == 'olej napędowy':\n",
    "                id_dict['olej napędowy'] = elem['id']\n",
    "            elif elem['n2'] == 'gaz (LPG)':\n",
    "                id_dict['gaz (LPG)'] = elem['id']\n",
    "            else:\n",
    "                id_dict['pozostałe'] = elem['id']"
   ]
  },
  {
   "cell_type": "code",
   "execution_count": 15,
   "id": "e0a4e95d",
   "metadata": {},
   "outputs": [
    {
     "name": "stdout",
     "output_type": "stream",
     "text": [
      "{'benzyna': 475618, 'olej napędowy': 475614, 'gaz (LPG)': 475610, 'pozostałe': 475622}\n"
     ]
    }
   ],
   "source": [
    "print(id_dict)"
   ]
  },
  {
   "cell_type": "code",
   "execution_count": 47,
   "id": "3229cb2e",
   "metadata": {},
   "outputs": [],
   "source": [
    "df_dict = {}\n",
    "for key in id_dict.keys():\n",
    "    df_dict[key] = pd.DataFrame(columns = ['city', 'date', 'no_of_cars'])"
   ]
  },
  {
   "cell_type": "code",
   "execution_count": 48,
   "id": "e65d4238",
   "metadata": {},
   "outputs": [],
   "source": [
    "def get_cars_data(city_name, cars_data_df, car_id):\n",
    "    url_2 = gus_url+'/Units/search'\n",
    "    parameters = {'level': 5, 'name': city_name}\n",
    "    resp_2 = requests.get(url_2, params = parameters, headers = header)\n",
    "    if resp_2.status_code == 200:\n",
    "        resp_2_res = resp_2.json()['results']\n",
    "        resp_id = None\n",
    "        for xk in resp_2_res:\n",
    "            if 'Powiat m. ' in xk['name']:\n",
    "                resp_id = xk['parentId']\n",
    "                break\n",
    "        if resp_id:\n",
    "            parameters_2 = {'unit-parent-id':resp_id}\n",
    "            url_4 = f\"{gus_url}/data/by-variable/{car_id}\"\n",
    "            resp_3 = requests.get(url_4, params=parameters_2, headers = header)\n",
    "            if resp_3.status_code == 200:\n",
    "                resp_3_res = resp_3.json()['results']\n",
    "                for xp in resp_3_res:\n",
    "                    if 'Powiat m. ' in xp['name']:\n",
    "                        if 'values' in xp:\n",
    "                            for val in xp['values']:\n",
    "                                cars_data_df.loc[len(cars_data_df)] = [city_name, int(val['year']), int(val['val'])]\n",
    "            else:\n",
    "                print('\\tNie udało się pobrać danych.')\n",
    "    else:\n",
    "        print('\\tNie udało się pobrać danych.')"
   ]
  },
  {
   "cell_type": "code",
   "execution_count": 49,
   "id": "9bc5525f",
   "metadata": {},
   "outputs": [
    {
     "name": "stdout",
     "output_type": "stream",
     "text": [
      "Przetwarzanie miasta: 1\n",
      "Przetwarzanie miasta: 2\n",
      "Przetwarzanie miasta: 3\n",
      "Przetwarzanie miasta: 4\n",
      "Przetwarzanie miasta: 5\n",
      "Przetwarzanie miasta: 6\n",
      "Przetwarzanie miasta: 7\n",
      "Przetwarzanie miasta: 8\n",
      "Przetwarzanie miasta: 9\n",
      "Przetwarzanie miasta: 10\n",
      "Przetwarzanie miasta: 11\n",
      "Przetwarzanie miasta: 12\n",
      "Przetwarzanie miasta: 13\n",
      "Przetwarzanie miasta: 14\n",
      "Przetwarzanie miasta: 15\n",
      "Przetwarzanie miasta: 16\n",
      "Przetwarzanie miasta: 17\n",
      "Przetwarzanie miasta: 18\n",
      "Przetwarzanie miasta: 19\n",
      "Przetwarzanie miasta: 20\n",
      "Przetwarzanie miasta: 21\n",
      "Przetwarzanie miasta: 22\n",
      "Przetwarzanie miasta: 23\n",
      "Przetwarzanie miasta: 24\n",
      "Przetwarzanie miasta: 25\n",
      "Przetwarzanie miasta: 26\n",
      "Przetwarzanie miasta: 27\n",
      "Przetwarzanie miasta: 28\n",
      "Przetwarzanie miasta: 29\n",
      "Przetwarzanie miasta: 30\n",
      "Przetwarzanie miasta: 31\n",
      "Przetwarzanie miasta: 32\n",
      "Przetwarzanie miasta: 33\n",
      "Przetwarzanie miasta: 34\n",
      "Przetwarzanie miasta: 35\n",
      "Przetwarzanie miasta: 36\n",
      "Przetwarzanie miasta: 37\n",
      "Przetwarzanie miasta: 38\n",
      "Przetwarzanie miasta: 39\n",
      "Przetwarzanie miasta: 40\n",
      "Przetwarzanie miasta: 41\n",
      "Przetwarzanie miasta: 42\n",
      "Przetwarzanie miasta: 43\n",
      "Przetwarzanie miasta: 44\n",
      "Przetwarzanie miasta: 45\n",
      "Przetwarzanie miasta: 46\n",
      "Przetwarzanie miasta: 47\n",
      "Przetwarzanie miasta: 48\n",
      "Przetwarzanie miasta: 49\n",
      "Przetwarzanie miasta: 50\n",
      "Przetwarzanie miasta: 51\n",
      "Przetwarzanie miasta: 52\n",
      "Przetwarzanie miasta: 53\n",
      "Przetwarzanie miasta: 54\n",
      "Przetwarzanie miasta: 55\n",
      "Przetwarzanie miasta: 56\n",
      "Przetwarzanie miasta: 57\n",
      "Przetwarzanie miasta: 58\n",
      "Przetwarzanie miasta: 59\n",
      "Przetwarzanie miasta: 60\n",
      "Przetwarzanie miasta: 61\n",
      "Przetwarzanie miasta: 62\n",
      "Przetwarzanie miasta: 63\n",
      "Przetwarzanie miasta: 64\n",
      "Przetwarzanie miasta: 65\n",
      "Przetwarzanie miasta: 66\n",
      "Przetwarzanie miasta: 67\n",
      "Przetwarzanie miasta: 68\n",
      "Przetwarzanie miasta: 69\n",
      "Przetwarzanie miasta: 70\n",
      "Przetwarzanie miasta: 71\n",
      "Przetwarzanie miasta: 72\n",
      "Przetwarzanie miasta: 73\n",
      "Przetwarzanie miasta: 74\n",
      "Przetwarzanie miasta: 75\n",
      "Przetwarzanie miasta: 76\n",
      "Przetwarzanie miasta: 77\n",
      "Przetwarzanie miasta: 78\n",
      "Przetwarzanie miasta: 79\n",
      "Przetwarzanie miasta: 80\n",
      "Przetwarzanie miasta: 81\n",
      "Przetwarzanie miasta: 82\n",
      "Przetwarzanie miasta: 83\n",
      "Przetwarzanie miasta: 84\n",
      "Przetwarzanie miasta: 85\n",
      "Przetwarzanie miasta: 86\n"
     ]
    }
   ],
   "source": [
    "for index, row in cities_df.iterrows():\n",
    "    print(f'Przetwarzanie miasta: {index+1}')\n",
    "    try:\n",
    "        for car_key, car_id in id_dict.items():\n",
    "            get_cars_data(row['city'], df_dict[car_key], car_id)\n",
    "    except Exception as e:\n",
    "        print(f'\\tBłąd: {e}')\n",
    "    time.sleep(1)\n",
    "    if (index+1)%20 == 0:\n",
    "        time.sleep(60)  "
   ]
  },
  {
   "cell_type": "code",
   "execution_count": 55,
   "id": "da44c477",
   "metadata": {},
   "outputs": [
    {
     "name": "stdout",
     "output_type": "stream",
     "text": [
      "<class 'pandas.core.frame.DataFrame'>\n",
      "Index: 576 entries, 0 to 575\n",
      "Data columns (total 3 columns):\n",
      " #   Column      Non-Null Count  Dtype \n",
      "---  ------      --------------  ----- \n",
      " 0   city        576 non-null    object\n",
      " 1   date        576 non-null    int64 \n",
      " 2   no_of_cars  576 non-null    int64 \n",
      "dtypes: int64(2), object(1)\n",
      "memory usage: 18.0+ KB\n"
     ]
    }
   ],
   "source": [
    "df_dict['olej napędowy'].info()"
   ]
  },
  {
   "cell_type": "code",
   "execution_count": 57,
   "id": "0d93aa5d",
   "metadata": {},
   "outputs": [],
   "source": [
    "for df_dict_key, df_dict_value in df_dict.items():\n",
    "    df_dict_value.to_csv(f'collected_data/cars_number_{df_dict_key}.csv', index=False)"
   ]
  }
 ],
 "metadata": {
  "kernelspec": {
   "display_name": "Python 3 (ipykernel)",
   "language": "python",
   "name": "python3"
  },
  "language_info": {
   "codemirror_mode": {
    "name": "ipython",
    "version": 3
   },
   "file_extension": ".py",
   "mimetype": "text/x-python",
   "name": "python",
   "nbconvert_exporter": "python",
   "pygments_lexer": "ipython3",
   "version": "3.11.5"
  }
 },
 "nbformat": 4,
 "nbformat_minor": 5
}
