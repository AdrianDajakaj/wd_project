{
 "cells": [
  {
   "cell_type": "code",
   "execution_count": 1,
   "id": "3d6842c9",
   "metadata": {},
   "outputs": [],
   "source": [
    "import requests\n",
    "import json\n",
    "import pandas as pd\n",
    "import time"
   ]
  },
  {
   "cell_type": "code",
   "execution_count": 2,
   "id": "ad089a2e",
   "metadata": {},
   "outputs": [],
   "source": [
    "cities_df =  pd.read_csv('collected_data/cities_list.csv')"
   ]
  },
  {
   "cell_type": "code",
   "execution_count": 3,
   "id": "7f1d16d3",
   "metadata": {},
   "outputs": [
    {
     "data": {
      "text/html": [
       "<div>\n",
       "<style scoped>\n",
       "    .dataframe tbody tr th:only-of-type {\n",
       "        vertical-align: middle;\n",
       "    }\n",
       "\n",
       "    .dataframe tbody tr th {\n",
       "        vertical-align: top;\n",
       "    }\n",
       "\n",
       "    .dataframe thead th {\n",
       "        text-align: right;\n",
       "    }\n",
       "</style>\n",
       "<table border=\"1\" class=\"dataframe\">\n",
       "  <thead>\n",
       "    <tr style=\"text-align: right;\">\n",
       "      <th></th>\n",
       "      <th>city</th>\n",
       "    </tr>\n",
       "  </thead>\n",
       "  <tbody>\n",
       "    <tr>\n",
       "      <th>0</th>\n",
       "      <td>Jelenia Góra</td>\n",
       "    </tr>\n",
       "    <tr>\n",
       "      <th>1</th>\n",
       "      <td>Biała Podlaska</td>\n",
       "    </tr>\n",
       "    <tr>\n",
       "      <th>2</th>\n",
       "      <td>Białystok</td>\n",
       "    </tr>\n",
       "    <tr>\n",
       "      <th>3</th>\n",
       "      <td>Bielsko-Biała</td>\n",
       "    </tr>\n",
       "    <tr>\n",
       "      <th>4</th>\n",
       "      <td>Bydgoszcz</td>\n",
       "    </tr>\n",
       "  </tbody>\n",
       "</table>\n",
       "</div>"
      ],
      "text/plain": [
       "             city\n",
       "0    Jelenia Góra\n",
       "1  Biała Podlaska\n",
       "2       Białystok\n",
       "3   Bielsko-Biała\n",
       "4       Bydgoszcz"
      ]
     },
     "execution_count": 3,
     "metadata": {},
     "output_type": "execute_result"
    }
   ],
   "source": [
    "cities_df.head()"
   ]
  },
  {
   "cell_type": "code",
   "execution_count": 17,
   "id": "0e4dab83",
   "metadata": {},
   "outputs": [],
   "source": [
    "residents_number_df = pd.DataFrame(columns = ['city', 'date', 'residents_1000'])\n",
    "residents_density_df = pd.DataFrame(columns = ['city', 'date', 'residents_per_1km2'])"
   ]
  },
  {
   "cell_type": "code",
   "execution_count": 5,
   "id": "4c157201",
   "metadata": {},
   "outputs": [],
   "source": [
    "header = {\n",
    "    'X-ClientId': 'c7b4da28-cadf-4dd6-f3d1-08dc7b3a73a3'\n",
    "}"
   ]
  },
  {
   "cell_type": "code",
   "execution_count": 6,
   "id": "7b89bd19",
   "metadata": {},
   "outputs": [],
   "source": [
    "gus_url = \"https://bdl.stat.gov.pl/api/v1\""
   ]
  },
  {
   "cell_type": "code",
   "execution_count": 7,
   "id": "a4fc9df5",
   "metadata": {},
   "outputs": [],
   "source": [
    "num_residents_url = f\"{gus_url}/data/by-variable/1645341\""
   ]
  },
  {
   "cell_type": "code",
   "execution_count": 8,
   "id": "36d22454",
   "metadata": {},
   "outputs": [],
   "source": [
    "residents_per_km2_url = f\"{gus_url}/data/by-variable/60559\""
   ]
  },
  {
   "cell_type": "code",
   "execution_count": 18,
   "id": "d3e4310d",
   "metadata": {},
   "outputs": [],
   "source": [
    "def get_data(city_name, city_df, city_url):\n",
    "    url_city_find=f\"{gus_url}/Units/localities/search\"\n",
    "    parameters = {'name': city_name}\n",
    "    city_response = requests.get(url_city_find, params=parameters, headers = header)\n",
    "    if city_response.status_code == 200:\n",
    "        city_data = city_response.json()['results']\n",
    "        if len(city_data) > 0:\n",
    "            for elem in city_data:\n",
    "                if city_name == elem['name']:\n",
    "                    parentId = elem['parentId']\n",
    "                    city_parameters = {'unit-parent-id':parentId}\n",
    "                    num_of_residents_response = requests.get(city_url, params=city_parameters, headers = header)\n",
    "                    if num_of_residents_response.status_code == 200:\n",
    "                        num_of_residents_data = num_of_residents_response.json()['results']\n",
    "                        if len(num_of_residents_data) > 0:\n",
    "                            num_of_residents_data = num_of_residents_data[0]\n",
    "                            if 'values' in num_of_residents_data:\n",
    "                                for value in num_of_residents_data['values']:\n",
    "                                    city_df.loc[len(city_df)] = [city_name, int(value['year']), float(value['val'])]\n",
    "                    else:\n",
    "                        print('\\tNie udało się pobrać danych.')\n",
    "                    break\n",
    "    else:\n",
    "        print('\\tNie udało się pobrać danych.')"
   ]
  },
  {
   "cell_type": "code",
   "execution_count": 20,
   "id": "becf8a64",
   "metadata": {},
   "outputs": [
    {
     "name": "stdout",
     "output_type": "stream",
     "text": [
      "Przetwarzanie miasta: 1\n",
      "Przetwarzanie miasta: 2\n",
      "Przetwarzanie miasta: 3\n",
      "Przetwarzanie miasta: 4\n",
      "Przetwarzanie miasta: 5\n",
      "Przetwarzanie miasta: 6\n",
      "Przetwarzanie miasta: 7\n",
      "Przetwarzanie miasta: 8\n",
      "Przetwarzanie miasta: 9\n",
      "Przetwarzanie miasta: 10\n",
      "Przetwarzanie miasta: 11\n",
      "Przetwarzanie miasta: 12\n",
      "Przetwarzanie miasta: 13\n",
      "Przetwarzanie miasta: 14\n",
      "Przetwarzanie miasta: 15\n",
      "Przetwarzanie miasta: 16\n",
      "Przetwarzanie miasta: 17\n",
      "Przetwarzanie miasta: 18\n",
      "Przetwarzanie miasta: 19\n",
      "Przetwarzanie miasta: 20\n",
      "Przetwarzanie miasta: 21\n",
      "Przetwarzanie miasta: 22\n",
      "Przetwarzanie miasta: 23\n",
      "Przetwarzanie miasta: 24\n",
      "Przetwarzanie miasta: 25\n",
      "Przetwarzanie miasta: 26\n",
      "Przetwarzanie miasta: 27\n",
      "Przetwarzanie miasta: 28\n",
      "Przetwarzanie miasta: 29\n",
      "Przetwarzanie miasta: 30\n",
      "Przetwarzanie miasta: 31\n",
      "Przetwarzanie miasta: 32\n",
      "Przetwarzanie miasta: 33\n",
      "Przetwarzanie miasta: 34\n",
      "Przetwarzanie miasta: 35\n",
      "Przetwarzanie miasta: 36\n",
      "Przetwarzanie miasta: 37\n",
      "Przetwarzanie miasta: 38\n",
      "Przetwarzanie miasta: 39\n",
      "Przetwarzanie miasta: 40\n",
      "Przetwarzanie miasta: 41\n",
      "Przetwarzanie miasta: 42\n",
      "Przetwarzanie miasta: 43\n",
      "Przetwarzanie miasta: 44\n",
      "Przetwarzanie miasta: 45\n",
      "Przetwarzanie miasta: 46\n",
      "Przetwarzanie miasta: 47\n",
      "Przetwarzanie miasta: 48\n",
      "Przetwarzanie miasta: 49\n",
      "Przetwarzanie miasta: 50\n",
      "Przetwarzanie miasta: 51\n",
      "Przetwarzanie miasta: 52\n",
      "Przetwarzanie miasta: 53\n",
      "Przetwarzanie miasta: 54\n",
      "Przetwarzanie miasta: 55\n",
      "Przetwarzanie miasta: 56\n",
      "Przetwarzanie miasta: 57\n",
      "Przetwarzanie miasta: 58\n",
      "Przetwarzanie miasta: 59\n",
      "Przetwarzanie miasta: 60\n",
      "Przetwarzanie miasta: 61\n",
      "Przetwarzanie miasta: 62\n",
      "Przetwarzanie miasta: 63\n",
      "Przetwarzanie miasta: 64\n",
      "Przetwarzanie miasta: 65\n",
      "Przetwarzanie miasta: 66\n",
      "Przetwarzanie miasta: 67\n",
      "Przetwarzanie miasta: 68\n",
      "Przetwarzanie miasta: 69\n",
      "Przetwarzanie miasta: 70\n",
      "Przetwarzanie miasta: 71\n",
      "Przetwarzanie miasta: 72\n",
      "Przetwarzanie miasta: 73\n",
      "Przetwarzanie miasta: 74\n",
      "Przetwarzanie miasta: 75\n",
      "Przetwarzanie miasta: 76\n",
      "Przetwarzanie miasta: 77\n",
      "Przetwarzanie miasta: 78\n",
      "Przetwarzanie miasta: 79\n",
      "Przetwarzanie miasta: 80\n",
      "Przetwarzanie miasta: 81\n",
      "Przetwarzanie miasta: 82\n",
      "Przetwarzanie miasta: 83\n",
      "Przetwarzanie miasta: 84\n",
      "Przetwarzanie miasta: 85\n",
      "Przetwarzanie miasta: 86\n"
     ]
    }
   ],
   "source": [
    "for index, row in cities_df.iterrows():\n",
    "        print(f'Przetwarzanie miasta: {index+1}')\n",
    "        try:\n",
    "            get_data(row['city'], residents_number_df, num_residents_url)\n",
    "        except Exception as e:\n",
    "            print(f'\\tBłąd: {e}')\n",
    "        time.sleep(1)\n",
    "        try:\n",
    "            get_data(row['city'], residents_density_df, residents_per_km2_url)\n",
    "        except Exception as e:\n",
    "            print(f'\\tBłąd: {e}')\n",
    "        time.sleep(1)\n",
    "        if (index+1)%20 == 0:\n",
    "            time.sleep(60)"
   ]
  },
  {
   "cell_type": "code",
   "execution_count": 21,
   "id": "7e9a0196",
   "metadata": {},
   "outputs": [
    {
     "name": "stdout",
     "output_type": "stream",
     "text": [
      "<class 'pandas.core.frame.DataFrame'>\n",
      "Index: 1703 entries, 0 to 1702\n",
      "Data columns (total 3 columns):\n",
      " #   Column              Non-Null Count  Dtype  \n",
      "---  ------              --------------  -----  \n",
      " 0   city                1703 non-null   object \n",
      " 1   date                1703 non-null   int64  \n",
      " 2   residents_per_1km2  1703 non-null   float64\n",
      "dtypes: float64(1), int64(1), object(1)\n",
      "memory usage: 53.2+ KB\n"
     ]
    }
   ],
   "source": [
    "residents_density_df.info()"
   ]
  },
  {
   "cell_type": "code",
   "execution_count": 16,
   "id": "33aa5a30",
   "metadata": {},
   "outputs": [],
   "source": [
    "abc = residents_density_df.copy()\n",
    "defg = residents_number_df.copy()"
   ]
  },
  {
   "cell_type": "code",
   "execution_count": null,
   "id": "25b211b9",
   "metadata": {},
   "outputs": [],
   "source": []
  }
 ],
 "metadata": {
  "kernelspec": {
   "display_name": "Python 3 (ipykernel)",
   "language": "python",
   "name": "python3"
  },
  "language_info": {
   "codemirror_mode": {
    "name": "ipython",
    "version": 3
   },
   "file_extension": ".py",
   "mimetype": "text/x-python",
   "name": "python",
   "nbconvert_exporter": "python",
   "pygments_lexer": "ipython3",
   "version": "3.11.5"
  }
 },
 "nbformat": 4,
 "nbformat_minor": 5
}
