{
 "cells": [
  {
   "cell_type": "code",
   "execution_count": 1,
   "id": "3894584d",
   "metadata": {},
   "outputs": [],
   "source": [
    "import requests"
   ]
  },
  {
   "cell_type": "code",
   "execution_count": null,
   "id": "32266fd9",
   "metadata": {},
   "outputs": [],
   "source": [
    "\n",
    "def get_population(city_name):\n",
    "    # Define the API endpoint and parameters\n",
    "    url = \"https://bdl.stat.gov.pl/api/v1/data/by-variable/20206\"\n",
    "    params = {\n",
    "        \"unit-level\": \"3\",  # Retrieves data for cities\n",
    "        \"lang\": \"pl\",  # Language (Polish)\n",
    "        \"variable\": \"41785\",  # Population count variable\n",
    "        \"format\": \"json\",  # JSON format\n",
    "        \"text\": city_name  # City name\n",
    "    }\n",
    "\n",
    "    # Make the HTTP GET request\n",
    "    response = requests.get(url, params=params)\n",
    "\n",
    "    # Check if the request was successful\n",
    "    if response.status_code == 200:\n",
    "        data = response.json()\n",
    "        # Extract the population count from the response\n",
    "        if data and 'value' in data:\n",
    "            return data['value']\n",
    "        else:\n",
    "            return \"Population data not found for the specified city.\"\n",
    "    else:\n",
    "        return \"Error occurred while fetching data from the API.\"\n",
    "\n",
    "# Example usage\n",
    "city_name = \"Warszawa\"  # Replace with the city name you're interested in\n",
    "population = get_population(city_name)\n",
    "print(f\"Population of {city_name}: {population}\")"
   ]
  }
 ],
 "metadata": {
  "kernelspec": {
   "display_name": "Python 3 (ipykernel)",
   "language": "python",
   "name": "python3"
  },
  "language_info": {
   "codemirror_mode": {
    "name": "ipython",
    "version": 3
   },
   "file_extension": ".py",
   "mimetype": "text/x-python",
   "name": "python",
   "nbconvert_exporter": "python",
   "pygments_lexer": "ipython3",
   "version": "3.11.5"
  }
 },
 "nbformat": 4,
 "nbformat_minor": 5
}
